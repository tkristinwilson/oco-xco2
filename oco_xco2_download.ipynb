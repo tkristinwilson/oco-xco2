{
 "cells": [
  {
   "cell_type": "markdown",
   "id": "mineral-pizza",
   "metadata": {
    "tags": []
   },
   "source": [
    "# OCO-2 XCO2 Data Download"
   ]
  },
  {
   "cell_type": "code",
   "execution_count": null,
   "id": "grateful-insider",
   "metadata": {},
   "outputs": [],
   "source": [
    "%reload_ext autoreload\n",
    "%autoreload 2"
   ]
  },
  {
   "cell_type": "code",
   "execution_count": null,
   "id": "sound-closing",
   "metadata": {},
   "outputs": [],
   "source": [
    "import os\n",
    "import pandas as pd\n",
    "from dotenv import load_dotenv\n",
    "from urllib.parse import urlparse"
   ]
  },
  {
   "cell_type": "code",
   "execution_count": null,
   "id": "621e4ef8-410b-4f45-a1c4-963dbeda7cf6",
   "metadata": {},
   "outputs": [],
   "source": [
    "# load credentials from an .env file\n",
    "# https://github.com/theskumar/python-dotenv\n",
    "env_path = '.env'\n",
    "load_dotenv(dotenv_path=env_path)"
   ]
  },
  {
   "cell_type": "code",
   "execution_count": null,
   "id": "velvet-cherry",
   "metadata": {},
   "outputs": [],
   "source": [
    "# check wget is installed\n",
    "! wget"
   ]
  },
  {
   "cell_type": "markdown",
   "id": "a5e1afe4-9caa-471d-b0f8-b1c33ca07dc1",
   "metadata": {},
   "source": [
    "## Get data from the GES DISC archive"
   ]
  },
  {
   "cell_type": "code",
   "execution_count": null,
   "id": "f52b045a-0868-465b-a623-7aecc5c4bf61",
   "metadata": {},
   "outputs": [],
   "source": [
    "# Product: https://disc.gsfc.nasa.gov/datasets/OCO2_L2_Lite_FP_9r/summary\n",
    "# Generate the 'Download links list' text file for an area and time period using the 'Subset / Get Data' method\n",
    "# Save this file to the data folder and verify the file name below\n",
    "# Create an account with NASA Earthdata to supply credentials for the file downloads "
   ]
  },
  {
   "cell_type": "code",
   "execution_count": null,
   "id": "7a3549c6-3d15-42c0-9575-22ffc1e414eb",
   "metadata": {},
   "outputs": [],
   "source": [
    "# setup folders\n",
    "folder_path = 'data'\n",
    "data_file = os.path.join(folder_path, 'subset_OCO2_L2_Lite_FP_9r_20210925_005847.txt')\n",
    "to_folder = os.path.join(folder_path, 'downloads', 'subset_OCO2_L2_Lite_FP_9r_20210925_005847')\n",
    "is_force_download = False\n",
    "\n",
    "# for NASA Earthdata\n",
    "username = os.getenv('USERNAME')\n",
    "password = os.getenv('PASSWORD')"
   ]
  },
  {
   "cell_type": "code",
   "execution_count": null,
   "id": "60e51c89-759d-40f7-aa07-52a5d0814b39",
   "metadata": {},
   "outputs": [],
   "source": [
    "# preview downloaded links list first\n",
    "df = pd.read_csv(data_file, sep=\" \",header=None)\n",
    "print('found', len(df), 'links')"
   ]
  },
  {
   "cell_type": "code",
   "execution_count": null,
   "id": "3aa312cb-b083-4718-8c50-340a01010342",
   "metadata": {},
   "outputs": [],
   "source": [
    "pd.set_option('display.max_colwidth', 200)\n",
    "df.head(10)"
   ]
  },
  {
   "cell_type": "code",
   "execution_count": null,
   "id": "creative-render",
   "metadata": {},
   "outputs": [],
   "source": [
    "# function to download files from urls in a text file\n",
    "def download_files(data_file, username, password, to_folder):\n",
    "\n",
    "    with open(data_file, \"r\") as data_file:\n",
    "        for line in data_file:\n",
    "            url = line.strip()\n",
    "            filename = os.path.basename(urlparse(url).path) # method only works if URL is to a file (cf. a REST endpoint)\n",
    "            if is_force_download or not os.path.isfile(to_folder+'/'+filename):\n",
    "                print (\"Downloading file: \" + url)\n",
    "                ! wget -P $to_folder --user=$username --password=$password $url\n",
    "            else:\n",
    "                print (\"File is already downloaded: \" + filename)\n"
   ]
  },
  {
   "cell_type": "code",
   "execution_count": null,
   "id": "worth-puzzle",
   "metadata": {},
   "outputs": [],
   "source": [
    "download_files(data_file, username, password, to_folder)"
   ]
  },
  {
   "cell_type": "markdown",
   "id": "angry-colonial",
   "metadata": {},
   "source": [
    "# fin"
   ]
  }
 ],
 "metadata": {
  "kernelspec": {
   "display_name": "Python [conda env:earthml]",
   "language": "python",
   "name": "conda-env-earthml-py"
  },
  "language_info": {
   "codemirror_mode": {
    "name": "ipython",
    "version": 3
   },
   "file_extension": ".py",
   "mimetype": "text/x-python",
   "name": "python",
   "nbconvert_exporter": "python",
   "pygments_lexer": "ipython3",
   "version": "3.9.7"
  }
 },
 "nbformat": 4,
 "nbformat_minor": 5
}
